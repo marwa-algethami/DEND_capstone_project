{
 "cells": [
  {
   "cell_type": "code",
   "execution_count": 2,
   "metadata": {
    "editable": true
   },
   "outputs": [],
   "source": [
    "# Do all imports and installs here\n",
    "import pandas as pd\n",
    "import os\n",
    "import glob\n",
    "from pyspark.sql import SparkSession\n",
    "from pyspark.sql.functions import udf, col\n",
    "from pyspark.sql.functions import expr ,lit,to_date,year, month, dayofmonth, hour, weekofyear,dayofweek, date_format\n",
    "import  pyspark.sql.functions as F\n",
    "from pyspark.sql.functions import *\n",
    "from IPython.display import Image\n"
   ]
  },
  {
   "cell_type": "code",
   "execution_count": 3,
   "metadata": {
    "editable": true
   },
   "outputs": [],
   "source": [
    "# Create Spark session\n",
    "spark = SparkSession.builder.\\\n",
    "appName('Data Engineer capaston projectwith Spark SQL').\\\n",
    "config(\"spark.jars.packages\",\"saurfang:spark-sas7bdat:2.0.0-s_2.11\")\\\n",
    ".enableHiveSupport().getOrCreate()"
   ]
  },
  {
   "cell_type": "code",
   "execution_count": 4,
   "metadata": {
    "editable": true
   },
   "outputs": [],
   "source": [
    "# output path\n",
    "output_data = \"/home/workspace/\""
   ]
  },
  {
   "cell_type": "markdown",
   "metadata": {
    "editable": true
   },
   "source": [
    "### Step 1: Scope the Project and Gather Data\n",
    "\n",
    "#### Scope \n",
    "Explain what you plan to do in the project in more detail. What data do you use? What is your end solution look like? What tools did you use? etc>\n",
    "\n",
    "#### Describe and Gather Data \n",
    "Describe the data sets you're using. Where did it come from? What type of information is included? "
   ]
  },
  {
   "cell_type": "markdown",
   "metadata": {
    "editable": true
   },
   "source": [
    "- **Immigration Data**:is the primary dataset. It recorded the immigrant category, a port of entry, entry date into the United States, status expiration date, and a unique 11-digit identifying number assigned to it. The purpose is to keep track of the arrival and departure to/from the United States of not United States citizens. It is stored as SAS binary database storage format sas7bdat. The data is for April of 2016 which has more than three million records. The fact table is derived from this data, also TIME and PERSON dimension tables are derived from this dataset.\n",
    "- **U.S. City Demographics Data**: is the second dataset. it contains information about all U.S. cities' demographics and census-designated places with a population greater or equal to 65,000. The STATE dimension in the data model is derived from this dataset and grouped by State.\n",
    "- **Country Data**: This data contains code for all countries in the world. This data comes from I94_SAS_Labels_Descriptions provided by Udacity. The COUNTRY dimension in the data model is derived from this dataset.\n",
    "\n"
   ]
  },
  {
   "cell_type": "code",
   "execution_count": 5,
   "metadata": {
    "editable": true
   },
   "outputs": [],
   "source": [
    "# Read immigration data\n",
    "i94_files = glob.glob(\"../../data/18-83510-I94-Data-2016/*.sas7bdat\")\n",
    "i94_fname = \"../../data/18-83510-I94-Data-2016/i94_apr16_sub.sas7bdat\"\n",
    "i94_df = spark.read.format(\"com.github.saurfang.sas.spark\").load(i94_fname)"
   ]
  },
  {
   "cell_type": "code",
   "execution_count": 6,
   "metadata": {
    "editable": true
   },
   "outputs": [],
   "source": [
    "# Read demographics data\n",
    "demo_fname = \"us-cities-demographics.csv\"\n",
    "demo_df = spark.read.format(\"csv\").option(\"delimiter\", \";\").option(\"header\", \"true\").load(demo_fname)"
   ]
  },
  {
   "cell_type": "code",
   "execution_count": 7,
   "metadata": {
    "editable": true
   },
   "outputs": [],
   "source": [
    "# Read countries data\n",
    "countries_fname = 'countries.csv'\n",
    "countries_df = spark.read.format(\"csv\").option(\"delimiter\", \",\").option(\"header\", \"true\").load(countries_fname)\n"
   ]
  },
  {
   "cell_type": "markdown",
   "metadata": {
    "editable": true
   },
   "source": [
    "### Step 2: Explore and Assess the Data\n",
    "#### Explore the Data \n",
    "Identify data quality issues, like missing values, duplicate data, etc.\n",
    "\n"
   ]
  },
  {
   "cell_type": "code",
   "execution_count": 8,
   "metadata": {
    "editable": true
   },
   "outputs": [
    {
     "data": {
      "text/html": [
       "<div>\n",
       "<style scoped>\n",
       "    .dataframe tbody tr th:only-of-type {\n",
       "        vertical-align: middle;\n",
       "    }\n",
       "\n",
       "    .dataframe tbody tr th {\n",
       "        vertical-align: top;\n",
       "    }\n",
       "\n",
       "    .dataframe thead th {\n",
       "        text-align: right;\n",
       "    }\n",
       "</style>\n",
       "<table border=\"1\" class=\"dataframe\">\n",
       "  <thead>\n",
       "    <tr style=\"text-align: right;\">\n",
       "      <th></th>\n",
       "      <th>cicid</th>\n",
       "      <th>i94yr</th>\n",
       "      <th>i94mon</th>\n",
       "      <th>i94cit</th>\n",
       "      <th>i94res</th>\n",
       "      <th>i94port</th>\n",
       "      <th>arrdate</th>\n",
       "      <th>i94mode</th>\n",
       "      <th>i94addr</th>\n",
       "      <th>depdate</th>\n",
       "      <th>...</th>\n",
       "      <th>entdepu</th>\n",
       "      <th>matflag</th>\n",
       "      <th>biryear</th>\n",
       "      <th>dtaddto</th>\n",
       "      <th>gender</th>\n",
       "      <th>insnum</th>\n",
       "      <th>airline</th>\n",
       "      <th>admnum</th>\n",
       "      <th>fltno</th>\n",
       "      <th>visatype</th>\n",
       "    </tr>\n",
       "  </thead>\n",
       "  <tbody>\n",
       "    <tr>\n",
       "      <th>0</th>\n",
       "      <td>6.0</td>\n",
       "      <td>2016.0</td>\n",
       "      <td>4.0</td>\n",
       "      <td>692.0</td>\n",
       "      <td>692.0</td>\n",
       "      <td>XXX</td>\n",
       "      <td>20573.0</td>\n",
       "      <td>NaN</td>\n",
       "      <td>None</td>\n",
       "      <td>NaN</td>\n",
       "      <td>...</td>\n",
       "      <td>U</td>\n",
       "      <td>None</td>\n",
       "      <td>1979.0</td>\n",
       "      <td>10282016</td>\n",
       "      <td>None</td>\n",
       "      <td>None</td>\n",
       "      <td>None</td>\n",
       "      <td>1.897628e+09</td>\n",
       "      <td>None</td>\n",
       "      <td>B2</td>\n",
       "    </tr>\n",
       "    <tr>\n",
       "      <th>1</th>\n",
       "      <td>7.0</td>\n",
       "      <td>2016.0</td>\n",
       "      <td>4.0</td>\n",
       "      <td>254.0</td>\n",
       "      <td>276.0</td>\n",
       "      <td>ATL</td>\n",
       "      <td>20551.0</td>\n",
       "      <td>1.0</td>\n",
       "      <td>AL</td>\n",
       "      <td>NaN</td>\n",
       "      <td>...</td>\n",
       "      <td>Y</td>\n",
       "      <td>None</td>\n",
       "      <td>1991.0</td>\n",
       "      <td>D/S</td>\n",
       "      <td>M</td>\n",
       "      <td>None</td>\n",
       "      <td>None</td>\n",
       "      <td>3.736796e+09</td>\n",
       "      <td>00296</td>\n",
       "      <td>F1</td>\n",
       "    </tr>\n",
       "    <tr>\n",
       "      <th>2</th>\n",
       "      <td>15.0</td>\n",
       "      <td>2016.0</td>\n",
       "      <td>4.0</td>\n",
       "      <td>101.0</td>\n",
       "      <td>101.0</td>\n",
       "      <td>WAS</td>\n",
       "      <td>20545.0</td>\n",
       "      <td>1.0</td>\n",
       "      <td>MI</td>\n",
       "      <td>20691.0</td>\n",
       "      <td>...</td>\n",
       "      <td>None</td>\n",
       "      <td>M</td>\n",
       "      <td>1961.0</td>\n",
       "      <td>09302016</td>\n",
       "      <td>M</td>\n",
       "      <td>None</td>\n",
       "      <td>OS</td>\n",
       "      <td>6.666432e+08</td>\n",
       "      <td>93</td>\n",
       "      <td>B2</td>\n",
       "    </tr>\n",
       "    <tr>\n",
       "      <th>3</th>\n",
       "      <td>16.0</td>\n",
       "      <td>2016.0</td>\n",
       "      <td>4.0</td>\n",
       "      <td>101.0</td>\n",
       "      <td>101.0</td>\n",
       "      <td>NYC</td>\n",
       "      <td>20545.0</td>\n",
       "      <td>1.0</td>\n",
       "      <td>MA</td>\n",
       "      <td>20567.0</td>\n",
       "      <td>...</td>\n",
       "      <td>None</td>\n",
       "      <td>M</td>\n",
       "      <td>1988.0</td>\n",
       "      <td>09302016</td>\n",
       "      <td>None</td>\n",
       "      <td>None</td>\n",
       "      <td>AA</td>\n",
       "      <td>9.246846e+10</td>\n",
       "      <td>00199</td>\n",
       "      <td>B2</td>\n",
       "    </tr>\n",
       "    <tr>\n",
       "      <th>4</th>\n",
       "      <td>17.0</td>\n",
       "      <td>2016.0</td>\n",
       "      <td>4.0</td>\n",
       "      <td>101.0</td>\n",
       "      <td>101.0</td>\n",
       "      <td>NYC</td>\n",
       "      <td>20545.0</td>\n",
       "      <td>1.0</td>\n",
       "      <td>MA</td>\n",
       "      <td>20567.0</td>\n",
       "      <td>...</td>\n",
       "      <td>None</td>\n",
       "      <td>M</td>\n",
       "      <td>2012.0</td>\n",
       "      <td>09302016</td>\n",
       "      <td>None</td>\n",
       "      <td>None</td>\n",
       "      <td>AA</td>\n",
       "      <td>9.246846e+10</td>\n",
       "      <td>00199</td>\n",
       "      <td>B2</td>\n",
       "    </tr>\n",
       "  </tbody>\n",
       "</table>\n",
       "<p>5 rows × 28 columns</p>\n",
       "</div>"
      ],
      "text/plain": [
       "   cicid   i94yr  i94mon  i94cit  i94res i94port  arrdate  i94mode i94addr  \\\n",
       "0    6.0  2016.0     4.0   692.0   692.0     XXX  20573.0      NaN    None   \n",
       "1    7.0  2016.0     4.0   254.0   276.0     ATL  20551.0      1.0      AL   \n",
       "2   15.0  2016.0     4.0   101.0   101.0     WAS  20545.0      1.0      MI   \n",
       "3   16.0  2016.0     4.0   101.0   101.0     NYC  20545.0      1.0      MA   \n",
       "4   17.0  2016.0     4.0   101.0   101.0     NYC  20545.0      1.0      MA   \n",
       "\n",
       "   depdate   ...     entdepu  matflag  biryear   dtaddto gender insnum  \\\n",
       "0      NaN   ...           U     None   1979.0  10282016   None   None   \n",
       "1      NaN   ...           Y     None   1991.0       D/S      M   None   \n",
       "2  20691.0   ...        None        M   1961.0  09302016      M   None   \n",
       "3  20567.0   ...        None        M   1988.0  09302016   None   None   \n",
       "4  20567.0   ...        None        M   2012.0  09302016   None   None   \n",
       "\n",
       "  airline        admnum  fltno visatype  \n",
       "0    None  1.897628e+09   None       B2  \n",
       "1    None  3.736796e+09  00296       F1  \n",
       "2      OS  6.666432e+08     93       B2  \n",
       "3      AA  9.246846e+10  00199       B2  \n",
       "4      AA  9.246846e+10  00199       B2  \n",
       "\n",
       "[5 rows x 28 columns]"
      ]
     },
     "execution_count": 8,
     "metadata": {},
     "output_type": "execute_result"
    }
   ],
   "source": [
    "i94_df.limit(5).toPandas()"
   ]
  },
  {
   "cell_type": "code",
   "execution_count": 9,
   "metadata": {
    "editable": true
   },
   "outputs": [
    {
     "data": {
      "text/html": [
       "<div>\n",
       "<style scoped>\n",
       "    .dataframe tbody tr th:only-of-type {\n",
       "        vertical-align: middle;\n",
       "    }\n",
       "\n",
       "    .dataframe tbody tr th {\n",
       "        vertical-align: top;\n",
       "    }\n",
       "\n",
       "    .dataframe thead th {\n",
       "        text-align: right;\n",
       "    }\n",
       "</style>\n",
       "<table border=\"1\" class=\"dataframe\">\n",
       "  <thead>\n",
       "    <tr style=\"text-align: right;\">\n",
       "      <th></th>\n",
       "      <th>City</th>\n",
       "      <th>State</th>\n",
       "      <th>Median Age</th>\n",
       "      <th>Male Population</th>\n",
       "      <th>Female Population</th>\n",
       "      <th>Total Population</th>\n",
       "      <th>Number of Veterans</th>\n",
       "      <th>Foreign-born</th>\n",
       "      <th>Average Household Size</th>\n",
       "      <th>State Code</th>\n",
       "      <th>Race</th>\n",
       "      <th>Count</th>\n",
       "    </tr>\n",
       "  </thead>\n",
       "  <tbody>\n",
       "    <tr>\n",
       "      <th>0</th>\n",
       "      <td>Silver Spring</td>\n",
       "      <td>Maryland</td>\n",
       "      <td>33.8</td>\n",
       "      <td>40601</td>\n",
       "      <td>41862</td>\n",
       "      <td>82463</td>\n",
       "      <td>1562</td>\n",
       "      <td>30908</td>\n",
       "      <td>2.6</td>\n",
       "      <td>MD</td>\n",
       "      <td>Hispanic or Latino</td>\n",
       "      <td>25924</td>\n",
       "    </tr>\n",
       "    <tr>\n",
       "      <th>1</th>\n",
       "      <td>Quincy</td>\n",
       "      <td>Massachusetts</td>\n",
       "      <td>41.0</td>\n",
       "      <td>44129</td>\n",
       "      <td>49500</td>\n",
       "      <td>93629</td>\n",
       "      <td>4147</td>\n",
       "      <td>32935</td>\n",
       "      <td>2.39</td>\n",
       "      <td>MA</td>\n",
       "      <td>White</td>\n",
       "      <td>58723</td>\n",
       "    </tr>\n",
       "    <tr>\n",
       "      <th>2</th>\n",
       "      <td>Hoover</td>\n",
       "      <td>Alabama</td>\n",
       "      <td>38.5</td>\n",
       "      <td>38040</td>\n",
       "      <td>46799</td>\n",
       "      <td>84839</td>\n",
       "      <td>4819</td>\n",
       "      <td>8229</td>\n",
       "      <td>2.58</td>\n",
       "      <td>AL</td>\n",
       "      <td>Asian</td>\n",
       "      <td>4759</td>\n",
       "    </tr>\n",
       "    <tr>\n",
       "      <th>3</th>\n",
       "      <td>Rancho Cucamonga</td>\n",
       "      <td>California</td>\n",
       "      <td>34.5</td>\n",
       "      <td>88127</td>\n",
       "      <td>87105</td>\n",
       "      <td>175232</td>\n",
       "      <td>5821</td>\n",
       "      <td>33878</td>\n",
       "      <td>3.18</td>\n",
       "      <td>CA</td>\n",
       "      <td>Black or African-American</td>\n",
       "      <td>24437</td>\n",
       "    </tr>\n",
       "    <tr>\n",
       "      <th>4</th>\n",
       "      <td>Newark</td>\n",
       "      <td>New Jersey</td>\n",
       "      <td>34.6</td>\n",
       "      <td>138040</td>\n",
       "      <td>143873</td>\n",
       "      <td>281913</td>\n",
       "      <td>5829</td>\n",
       "      <td>86253</td>\n",
       "      <td>2.73</td>\n",
       "      <td>NJ</td>\n",
       "      <td>White</td>\n",
       "      <td>76402</td>\n",
       "    </tr>\n",
       "  </tbody>\n",
       "</table>\n",
       "</div>"
      ],
      "text/plain": [
       "               City          State Median Age Male Population  \\\n",
       "0     Silver Spring       Maryland       33.8           40601   \n",
       "1            Quincy  Massachusetts       41.0           44129   \n",
       "2            Hoover        Alabama       38.5           38040   \n",
       "3  Rancho Cucamonga     California       34.5           88127   \n",
       "4            Newark     New Jersey       34.6          138040   \n",
       "\n",
       "  Female Population Total Population Number of Veterans Foreign-born  \\\n",
       "0             41862            82463               1562        30908   \n",
       "1             49500            93629               4147        32935   \n",
       "2             46799            84839               4819         8229   \n",
       "3             87105           175232               5821        33878   \n",
       "4            143873           281913               5829        86253   \n",
       "\n",
       "  Average Household Size State Code                       Race  Count  \n",
       "0                    2.6         MD         Hispanic or Latino  25924  \n",
       "1                   2.39         MA                      White  58723  \n",
       "2                   2.58         AL                      Asian   4759  \n",
       "3                   3.18         CA  Black or African-American  24437  \n",
       "4                   2.73         NJ                      White  76402  "
      ]
     },
     "execution_count": 9,
     "metadata": {},
     "output_type": "execute_result"
    }
   ],
   "source": [
    "demo_df.limit(5).toPandas()"
   ]
  },
  {
   "cell_type": "code",
   "execution_count": 10,
   "metadata": {
    "editable": true
   },
   "outputs": [
    {
     "data": {
      "text/html": [
       "<div>\n",
       "<style scoped>\n",
       "    .dataframe tbody tr th:only-of-type {\n",
       "        vertical-align: middle;\n",
       "    }\n",
       "\n",
       "    .dataframe tbody tr th {\n",
       "        vertical-align: top;\n",
       "    }\n",
       "\n",
       "    .dataframe thead th {\n",
       "        text-align: right;\n",
       "    }\n",
       "</style>\n",
       "<table border=\"1\" class=\"dataframe\">\n",
       "  <thead>\n",
       "    <tr style=\"text-align: right;\">\n",
       "      <th></th>\n",
       "      <th>code</th>\n",
       "      <th>country</th>\n",
       "    </tr>\n",
       "  </thead>\n",
       "  <tbody>\n",
       "    <tr>\n",
       "      <th>0</th>\n",
       "      <td>582</td>\n",
       "      <td>MEXICO</td>\n",
       "    </tr>\n",
       "    <tr>\n",
       "      <th>1</th>\n",
       "      <td>236</td>\n",
       "      <td>AFGHANISTAN</td>\n",
       "    </tr>\n",
       "    <tr>\n",
       "      <th>2</th>\n",
       "      <td>101</td>\n",
       "      <td>ALBANIA</td>\n",
       "    </tr>\n",
       "    <tr>\n",
       "      <th>3</th>\n",
       "      <td>316</td>\n",
       "      <td>ALGERIA</td>\n",
       "    </tr>\n",
       "    <tr>\n",
       "      <th>4</th>\n",
       "      <td>102</td>\n",
       "      <td>ANDORRA</td>\n",
       "    </tr>\n",
       "  </tbody>\n",
       "</table>\n",
       "</div>"
      ],
      "text/plain": [
       "  code      country\n",
       "0  582      MEXICO \n",
       "1  236  AFGHANISTAN\n",
       "2  101      ALBANIA\n",
       "3  316      ALGERIA\n",
       "4  102      ANDORRA"
      ]
     },
     "execution_count": 10,
     "metadata": {},
     "output_type": "execute_result"
    }
   ],
   "source": [
    "countries_df.limit(5).toPandas()"
   ]
  },
  {
   "cell_type": "code",
   "execution_count": 11,
   "metadata": {
    "editable": true
   },
   "outputs": [
    {
     "name": "stdout",
     "output_type": "stream",
     "text": [
      " Immigration  \n",
      "Rows: 3096313\n",
      "Columns: 28\n",
      "\n",
      " Demographics\n",
      "Rows: 2891\n",
      "Columns: 12\n",
      "\n",
      " Countries\n",
      "Rows: 289\n",
      "Columns: 2\n"
     ]
    }
   ],
   "source": [
    "#the shapes of the given data\n",
    "print(\" Immigration  \")\n",
    "imm_df_count=i94_df.count()\n",
    "print(f\"Rows: {imm_df_count}\")\n",
    "print(f\"Columns: {len(i94_df.columns)}\")\n",
    "print()\n",
    "print(\" Demographics\")\n",
    "demo_df_count=demo_df.count()\n",
    "print(f\"Rows: {demo_df_count}\")\n",
    "print(f\"Columns: {len(demo_df .columns)}\")\n",
    "print()\n",
    "print(\" Countries\")\n",
    "countries_df_count=countries_df.count()\n",
    "print(f\"Rows: {countries_df_count}\")\n",
    "print(f\"Columns: {len(countries_df .columns)}\")"
   ]
  },
  {
   "cell_type": "code",
   "execution_count": 12,
   "metadata": {
    "editable": true
   },
   "outputs": [
    {
     "name": "stdout",
     "output_type": "stream",
     "text": [
      "root\n",
      " |-- cicid: double (nullable = true)\n",
      " |-- i94yr: double (nullable = true)\n",
      " |-- i94mon: double (nullable = true)\n",
      " |-- i94cit: double (nullable = true)\n",
      " |-- i94res: double (nullable = true)\n",
      " |-- i94port: string (nullable = true)\n",
      " |-- arrdate: double (nullable = true)\n",
      " |-- i94mode: double (nullable = true)\n",
      " |-- i94addr: string (nullable = true)\n",
      " |-- depdate: double (nullable = true)\n",
      " |-- i94bir: double (nullable = true)\n",
      " |-- i94visa: double (nullable = true)\n",
      " |-- count: double (nullable = true)\n",
      " |-- dtadfile: string (nullable = true)\n",
      " |-- visapost: string (nullable = true)\n",
      " |-- occup: string (nullable = true)\n",
      " |-- entdepa: string (nullable = true)\n",
      " |-- entdepd: string (nullable = true)\n",
      " |-- entdepu: string (nullable = true)\n",
      " |-- matflag: string (nullable = true)\n",
      " |-- biryear: double (nullable = true)\n",
      " |-- dtaddto: string (nullable = true)\n",
      " |-- gender: string (nullable = true)\n",
      " |-- insnum: string (nullable = true)\n",
      " |-- airline: string (nullable = true)\n",
      " |-- admnum: double (nullable = true)\n",
      " |-- fltno: string (nullable = true)\n",
      " |-- visatype: string (nullable = true)\n",
      "\n"
     ]
    }
   ],
   "source": [
    "i94_df.printSchema()"
   ]
  },
  {
   "cell_type": "markdown",
   "metadata": {
    "editable": true
   },
   "source": [
    "**Data Dictionary**"
   ]
  },
  {
   "cell_type": "markdown",
   "metadata": {
    "editable": true
   },
   "source": [
    "| Feature | Description | \n",
    "| --- | --- |  \n",
    "| cicid|Unique record ID | \n",
    "| i94yr | 4 digit year | \n",
    "| i94mon | Numeric month | \n",
    "| i94cit | 3 digit code for immigrant country of birth | \n",
    "| i94res | 3 digit code for immigrant country of residence | \n",
    "| i94port | Port of admission | \n",
    "| arrdate | Arrival Date in the USA | \n",
    "| i94mode | Mode of transportation (1 = Air; 2 = Sea; 3 = Land; 9 = Not reported) | \n",
    "| i94addr | USA State of arrival | \n",
    "| depdate | Departure Date from the USA | \n",
    "| i94bir | Age of Respondent in Years | \n",
    "| i94visa | Visa codes collapsed into three categories | \n",
    "| count | Field used for summary statistics | \n",
    "| dtadfile | Character Date Field - Date added to I-94 Files | \n",
    "| visapost | Department of State where where Visa was issued | \n",
    "| occup | Occupation that will be performed in U.S | \n",
    "| entdepa | Arrival Flag - admitted or paroled into the U.S. | \n",
    "| entdepd | Departure Flag - Departed, lost I-94 or is deceased | \n",
    "| entdepu | Update Flag - Either apprehended, overstayed, adjusted to perm residence | \n",
    "| matflag | Match flag - Match of arrival and departure records | \n",
    "| biryear | 4 digit year of birth | \n",
    "| dtaddto | Character Date Field - Date to which admitted to U.S. (allowed to stay until) | \n",
    "| gender | Non-immigrant sex | \n",
    "| insnum | INS number | \n",
    "| airline | Airline used to arrive in U.S. | \n",
    "| admnum | Admission Number | \n",
    "| fltno | Flight number of Airline used to arrive in U.S. | \n",
    "| visatype | Class of admission legally admitting the non-immigrant to temporarily stay in U.S"
   ]
  },
  {
   "cell_type": "code",
   "execution_count": 13,
   "metadata": {
    "editable": true
   },
   "outputs": [
    {
     "name": "stdout",
     "output_type": "stream",
     "text": [
      "root\n",
      " |-- City: string (nullable = true)\n",
      " |-- State: string (nullable = true)\n",
      " |-- Median Age: string (nullable = true)\n",
      " |-- Male Population: string (nullable = true)\n",
      " |-- Female Population: string (nullable = true)\n",
      " |-- Total Population: string (nullable = true)\n",
      " |-- Number of Veterans: string (nullable = true)\n",
      " |-- Foreign-born: string (nullable = true)\n",
      " |-- Average Household Size: string (nullable = true)\n",
      " |-- State Code: string (nullable = true)\n",
      " |-- Race: string (nullable = true)\n",
      " |-- Count: string (nullable = true)\n",
      "\n"
     ]
    }
   ],
   "source": [
    "demo_df.printSchema()"
   ]
  },
  {
   "cell_type": "markdown",
   "metadata": {
    "editable": true
   },
   "source": [
    "**Data Dictionary**"
   ]
  },
  {
   "cell_type": "markdown",
   "metadata": {
    "editable": true
   },
   "source": [
    "| Feature | Description  | \n",
    "| --- | --- |  \n",
    "| City | City Name  | \n",
    "| State | US State where city is located | \n",
    "| Median Age | Median age of the population | \n",
    "| Male Population | Count of male population | \n",
    "| Female Population | Count of female population | \n",
    "| Total Population | Count of total population | \n",
    "| Number of Veterans | Count of total Veterans | \n",
    "| Foreign born | Count of residents of the city that were not born in the city | \n",
    "| Average Household Size | Average city household size | \n",
    "| State Code | Code of the US state | \n",
    "| Race | Respondent race | \n",
    "| Count | Count of city's individual per race "
   ]
  },
  {
   "cell_type": "code",
   "execution_count": 14,
   "metadata": {
    "editable": true
   },
   "outputs": [
    {
     "name": "stdout",
     "output_type": "stream",
     "text": [
      "root\n",
      " |-- code: string (nullable = true)\n",
      " |-- country: string (nullable = true)\n",
      "\n"
     ]
    }
   ],
   "source": [
    "countries_df.printSchema()"
   ]
  },
  {
   "cell_type": "markdown",
   "metadata": {
    "editable": true
   },
   "source": [
    "**Data Dictionary**"
   ]
  },
  {
   "cell_type": "markdown",
   "metadata": {
    "editable": true
   },
   "source": [
    "| Feature | Description  | \n",
    "| --- | --- |  \n",
    "| code | Code of Country | \n",
    "| country | Country Name |"
   ]
  },
  {
   "cell_type": "markdown",
   "metadata": {
    "editable": true
   },
   "source": [
    "#### Cleaning Steps\n",
    "Document steps necessary to clean the data:\n",
    "\n",
    "- change columns type and name. \n",
    "\n",
    "- drop duplicates. \n",
    "\n",
    "- drop un-needed columns.\n",
    "\n",
    "- aggregate based on columns. "
   ]
  },
  {
   "cell_type": "markdown",
   "metadata": {
    "editable": true
   },
   "source": [
    "**Cleansing immegration Data**"
   ]
  },
  {
   "cell_type": "code",
   "execution_count": 8,
   "metadata": {
    "editable": true
   },
   "outputs": [],
   "source": [
    "staging_imm_df = i94_df \\\n",
    ".withColumn(\"cicid\", col(\"cicid\").cast(\"integer\")) \\\n",
    ".withColumn(\"bornCountry\", col(\"i94cit\").cast(\"integer\")) \\\n",
    ".drop(\"i94cit\") \\\n",
    ".withColumn(\"residentCountry\", col(\"i94res\").cast(\"integer\")) \\\n",
    ".drop(\"i94res\") \\\n",
    ".withColumn(\"year\", col(\"i94yr\").cast(\"integer\")) \\\n",
    ".drop(\"i94yr\") \\\n",
    ".withColumn(\"month\", col(\"i94mon\").cast(\"integer\")) \\\n",
    ".drop(\"i94mon\") \\\n",
    ".withColumnRenamed(\"i94port\", \"arrivalPort\") \\\n",
    ".withColumn(\"mode\", col(\"i94mode\").cast(\"integer\")) \\\n",
    ".drop(\"i94mode\") \\\n",
    ".withColumnRenamed(\"i94addr\", \"State\") \\\n",
    ".withColumn(\"age\", col(\"i94bir\").cast(\"integer\")) \\\n",
    ".drop(\"i94bir\") \\\n",
    ".withColumn(\"visa\", col(\"i94visa\").cast(\"string\")) \\\n",
    ".drop(\"i94visa\") \\\n",
    ".withColumnRenamed(\"entdepa\", \"arrivalFlag\") \\\n",
    ".withColumnRenamed(\"entdepd\", \"departureFlag\") \\\n",
    ".withColumnRenamed(\"entdepu\", \"updateFlag\") \\\n",
    ".withColumnRenamed(\"matflag\", \"matchFlag\") \\\n",
    ".withColumn(\"birthYear\", col(\"biryear\").cast(\"integer\")) \\\n",
    ".drop(\"biryear\") \\\n",
    ".withColumnRenamed(\"fltno\", \"flightNumber\") \\\n",
    ".withColumn(\"sasDate\", to_date(lit(\"01/01/1960\"), \"MM/dd/yyyy\")) \\\n",
    ".withColumn(\"arrivalDate\", expr(\"date_add(sasDate, arrdate)\")) \\\n",
    ".withColumn(\"departureDate\", expr(\"date_add(sasDate, depdate)\")) \\\n",
    ".withColumnRenamed(\"occup\", \"occupation\") \\\n",
    ".withColumnRenamed(\"admnum\", \"admission_number\") \\\n",
    ".withColumnRenamed(\"visapost\", \"vissa_issued_state\") \\\n",
    ".drop(\"sasDate\", \"arrdate\", \"depdate\", \"count\",  \"dtadfile\", \"dtaddto\",'airline','fltno','visatype')"
   ]
  },
  {
   "cell_type": "code",
   "execution_count": 16,
   "metadata": {
    "editable": true
   },
   "outputs": [
    {
     "name": "stdout",
     "output_type": "stream",
     "text": [
      "Staging Immigration data schema:\n",
      "root\n",
      " |-- cicid: integer (nullable = true)\n",
      " |-- arrivalPort: string (nullable = true)\n",
      " |-- State: string (nullable = true)\n",
      " |-- vissa_issued_state: string (nullable = true)\n",
      " |-- occupation: string (nullable = true)\n",
      " |-- arrivalFlag: string (nullable = true)\n",
      " |-- departureFlag: string (nullable = true)\n",
      " |-- updateFlag: string (nullable = true)\n",
      " |-- matchFlag: string (nullable = true)\n",
      " |-- gender: string (nullable = true)\n",
      " |-- insnum: string (nullable = true)\n",
      " |-- admission_number: double (nullable = true)\n",
      " |-- flightNumber: string (nullable = true)\n",
      " |-- bornCountry: integer (nullable = true)\n",
      " |-- residentCountry: integer (nullable = true)\n",
      " |-- year: integer (nullable = true)\n",
      " |-- month: integer (nullable = true)\n",
      " |-- mode: integer (nullable = true)\n",
      " |-- age: integer (nullable = true)\n",
      " |-- visa: string (nullable = true)\n",
      " |-- birthYear: integer (nullable = true)\n",
      " |-- arrivalDate: date (nullable = true)\n",
      " |-- departureDate: date (nullable = true)\n",
      "\n"
     ]
    }
   ],
   "source": [
    "\n",
    "print(\"Staging Immigration data schema:\")\n",
    "staging_imm_df.printSchema()"
   ]
  },
  {
   "cell_type": "code",
   "execution_count": 17,
   "metadata": {
    "editable": true
   },
   "outputs": [],
   "source": [
    "def count_missings(spark_df,sort=True):\n",
    "    \"\"\"\n",
    "    Counts number of nulls and nans in each column\n",
    "    Param spark_df ; spark datafram to check missing on\n",
    "    \"\"\"\n",
    "    df = spark_df.select([F.count(F.when(F.isnan(c) | F.isnull(c), c)).alias(c) for (c,c_type) in spark_df.dtypes if c_type not in ('timestamp', 'date')]).toPandas()\n",
    "\n",
    "    if len(df) == 0:\n",
    "        print(\"There are no any missing values!\")\n",
    "        return None\n",
    "\n",
    "    if sort:\n",
    "        return df.rename(index={0: 'count'}).T.sort_values(\"count\",ascending=False)\n",
    "         \n",
    "    return df"
   ]
  },
  {
   "cell_type": "code",
   "execution_count": 18,
   "metadata": {
    "editable": true
   },
   "outputs": [
    {
     "data": {
      "text/html": [
       "<div>\n",
       "<style scoped>\n",
       "    .dataframe tbody tr th:only-of-type {\n",
       "        vertical-align: middle;\n",
       "    }\n",
       "\n",
       "    .dataframe tbody tr th {\n",
       "        vertical-align: top;\n",
       "    }\n",
       "\n",
       "    .dataframe thead th {\n",
       "        text-align: right;\n",
       "    }\n",
       "</style>\n",
       "<table border=\"1\" class=\"dataframe\">\n",
       "  <thead>\n",
       "    <tr style=\"text-align: right;\">\n",
       "      <th></th>\n",
       "      <th>count</th>\n",
       "    </tr>\n",
       "  </thead>\n",
       "  <tbody>\n",
       "    <tr>\n",
       "      <th>updateFlag</th>\n",
       "      <td>3095921</td>\n",
       "    </tr>\n",
       "    <tr>\n",
       "      <th>occupation</th>\n",
       "      <td>3088187</td>\n",
       "    </tr>\n",
       "    <tr>\n",
       "      <th>insnum</th>\n",
       "      <td>2982605</td>\n",
       "    </tr>\n",
       "    <tr>\n",
       "      <th>vissa_issued_state</th>\n",
       "      <td>1881250</td>\n",
       "    </tr>\n",
       "    <tr>\n",
       "      <th>gender</th>\n",
       "      <td>414269</td>\n",
       "    </tr>\n",
       "    <tr>\n",
       "      <th>State</th>\n",
       "      <td>152592</td>\n",
       "    </tr>\n",
       "    <tr>\n",
       "      <th>departureFlag</th>\n",
       "      <td>138429</td>\n",
       "    </tr>\n",
       "    <tr>\n",
       "      <th>matchFlag</th>\n",
       "      <td>138429</td>\n",
       "    </tr>\n",
       "    <tr>\n",
       "      <th>flightNumber</th>\n",
       "      <td>19549</td>\n",
       "    </tr>\n",
       "    <tr>\n",
       "      <th>age</th>\n",
       "      <td>802</td>\n",
       "    </tr>\n",
       "    <tr>\n",
       "      <th>birthYear</th>\n",
       "      <td>802</td>\n",
       "    </tr>\n",
       "    <tr>\n",
       "      <th>mode</th>\n",
       "      <td>239</td>\n",
       "    </tr>\n",
       "    <tr>\n",
       "      <th>arrivalFlag</th>\n",
       "      <td>238</td>\n",
       "    </tr>\n",
       "    <tr>\n",
       "      <th>admission_number</th>\n",
       "      <td>0</td>\n",
       "    </tr>\n",
       "    <tr>\n",
       "      <th>arrivalPort</th>\n",
       "      <td>0</td>\n",
       "    </tr>\n",
       "    <tr>\n",
       "      <th>bornCountry</th>\n",
       "      <td>0</td>\n",
       "    </tr>\n",
       "    <tr>\n",
       "      <th>residentCountry</th>\n",
       "      <td>0</td>\n",
       "    </tr>\n",
       "    <tr>\n",
       "      <th>year</th>\n",
       "      <td>0</td>\n",
       "    </tr>\n",
       "    <tr>\n",
       "      <th>month</th>\n",
       "      <td>0</td>\n",
       "    </tr>\n",
       "    <tr>\n",
       "      <th>visa</th>\n",
       "      <td>0</td>\n",
       "    </tr>\n",
       "    <tr>\n",
       "      <th>cicid</th>\n",
       "      <td>0</td>\n",
       "    </tr>\n",
       "  </tbody>\n",
       "</table>\n",
       "</div>"
      ],
      "text/plain": [
       "                      count\n",
       "updateFlag          3095921\n",
       "occupation          3088187\n",
       "insnum              2982605\n",
       "vissa_issued_state  1881250\n",
       "gender               414269\n",
       "State                152592\n",
       "departureFlag        138429\n",
       "matchFlag            138429\n",
       "flightNumber          19549\n",
       "age                     802\n",
       "birthYear               802\n",
       "mode                    239\n",
       "arrivalFlag             238\n",
       "admission_number          0\n",
       "arrivalPort               0\n",
       "bornCountry               0\n",
       "residentCountry           0\n",
       "year                      0\n",
       "month                     0\n",
       "visa                      0\n",
       "cicid                     0"
      ]
     },
     "execution_count": 18,
     "metadata": {},
     "output_type": "execute_result"
    }
   ],
   "source": [
    "count_missings(staging_imm_df)"
   ]
  },
  {
   "cell_type": "code",
   "execution_count": 9,
   "metadata": {
    "editable": true
   },
   "outputs": [],
   "source": [
    "# Drop columns with over 2M missing values\n",
    "cols = ['updateFlag', 'occupation','insnum']\n",
    "\n",
    "# drop these columns\n",
    "staging_imm_df = staging_imm_df.drop(*cols)"
   ]
  },
  {
   "cell_type": "code",
   "execution_count": 10,
   "metadata": {
    "editable": true
   },
   "outputs": [],
   "source": [
    "#drop duplicates\n",
    "staging_imm_df = staging_imm_df.dropDuplicates(['cicid'])"
   ]
  },
  {
   "cell_type": "code",
   "execution_count": 11,
   "metadata": {
    "editable": true
   },
   "outputs": [],
   "source": [
    "# drop any row with null for 'vissa_issued_state','gender','visa','age'\n",
    "staging_imm_df1 = staging_imm_df.dropna(how='any',subset=('vissa_issued_state','gender','visa','age'))"
   ]
  },
  {
   "cell_type": "code",
   "execution_count": 22,
   "metadata": {
    "editable": true
   },
   "outputs": [
    {
     "name": "stdout",
     "output_type": "stream",
     "text": [
      "+------+\n",
      "|gender|\n",
      "+------+\n",
      "|     F|\n",
      "|     M|\n",
      "|     U|\n",
      "|     X|\n",
      "+------+\n",
      "\n"
     ]
    }
   ],
   "source": [
    "staging_imm_df1.select('gender').distinct().show()"
   ]
  },
  {
   "cell_type": "code",
   "execution_count": 12,
   "metadata": {
    "editable": true
   },
   "outputs": [],
   "source": [
    "# change value of visa to actual value\n",
    "staging_imm_df1 = staging_imm_df1.withColumn('visa', regexp_replace('visa', '1.0', 'Business'))\\\n",
    ".withColumn('visa', regexp_replace('visa', '2.0', 'Pleasure'))\\\n",
    ".withColumn('visa', regexp_replace('visa', '3.0', 'Student'))"
   ]
  },
  {
   "cell_type": "code",
   "execution_count": 13,
   "metadata": {
    "editable": true
   },
   "outputs": [],
   "source": [
    "# change value of mode to actual value\n",
    "staging_imm_df1 = staging_imm_df1.withColumn('mode', regexp_replace('mode', '1', 'Sea'))\\\n",
    ".withColumn('mode', regexp_replace('mode', '2', 'Air'))\\\n",
    ".withColumn('mode', regexp_replace('mode', '3', 'Land'))\\\n",
    ".withColumn('mode', regexp_replace('mode', '9', 'Not Reported'))"
   ]
  },
  {
   "cell_type": "code",
   "execution_count": 25,
   "metadata": {
    "editable": true
   },
   "outputs": [
    {
     "name": "stdout",
     "output_type": "stream",
     "text": [
      "+--------+\n",
      "|    visa|\n",
      "+--------+\n",
      "|Pleasure|\n",
      "| Student|\n",
      "|Business|\n",
      "+--------+\n",
      "\n"
     ]
    }
   ],
   "source": [
    "staging_imm_df1.select('visa').distinct().show()"
   ]
  },
  {
   "cell_type": "code",
   "execution_count": 29,
   "metadata": {
    "editable": true
   },
   "outputs": [
    {
     "name": "stdout",
     "output_type": "stream",
     "text": [
      "+------------+\n",
      "|        mode|\n",
      "+------------+\n",
      "|Not Reported|\n",
      "|         Sea|\n",
      "|        Land|\n",
      "|         Air|\n",
      "+------------+\n",
      "\n"
     ]
    }
   ],
   "source": [
    "staging_imm_df1.select('mode').distinct().show()"
   ]
  },
  {
   "cell_type": "code",
   "execution_count": 30,
   "metadata": {
    "editable": true
   },
   "outputs": [
    {
     "data": {
      "text/html": [
       "<div>\n",
       "<style scoped>\n",
       "    .dataframe tbody tr th:only-of-type {\n",
       "        vertical-align: middle;\n",
       "    }\n",
       "\n",
       "    .dataframe tbody tr th {\n",
       "        vertical-align: top;\n",
       "    }\n",
       "\n",
       "    .dataframe thead th {\n",
       "        text-align: right;\n",
       "    }\n",
       "</style>\n",
       "<table border=\"1\" class=\"dataframe\">\n",
       "  <thead>\n",
       "    <tr style=\"text-align: right;\">\n",
       "      <th></th>\n",
       "      <th>cicid</th>\n",
       "      <th>arrivalPort</th>\n",
       "      <th>State</th>\n",
       "      <th>vissa_issued_state</th>\n",
       "      <th>arrivalFlag</th>\n",
       "      <th>departureFlag</th>\n",
       "      <th>matchFlag</th>\n",
       "      <th>gender</th>\n",
       "      <th>admission_number</th>\n",
       "      <th>flightNumber</th>\n",
       "      <th>bornCountry</th>\n",
       "      <th>residentCountry</th>\n",
       "      <th>year</th>\n",
       "      <th>month</th>\n",
       "      <th>mode</th>\n",
       "      <th>age</th>\n",
       "      <th>visa</th>\n",
       "      <th>birthYear</th>\n",
       "      <th>arrivalDate</th>\n",
       "      <th>departureDate</th>\n",
       "    </tr>\n",
       "  </thead>\n",
       "  <tbody>\n",
       "    <tr>\n",
       "      <th>0</th>\n",
       "      <td>2122</td>\n",
       "      <td>WAS</td>\n",
       "      <td>VA</td>\n",
       "      <td>SOF</td>\n",
       "      <td>G</td>\n",
       "      <td>O</td>\n",
       "      <td>M</td>\n",
       "      <td>M</td>\n",
       "      <td>9.247317e+10</td>\n",
       "      <td>00093</td>\n",
       "      <td>105</td>\n",
       "      <td>105</td>\n",
       "      <td>2016</td>\n",
       "      <td>4</td>\n",
       "      <td>Sea</td>\n",
       "      <td>59</td>\n",
       "      <td>Pleasure</td>\n",
       "      <td>1957</td>\n",
       "      <td>2016-04-01</td>\n",
       "      <td>2016-04-15</td>\n",
       "    </tr>\n",
       "    <tr>\n",
       "      <th>1</th>\n",
       "      <td>2142</td>\n",
       "      <td>NYC</td>\n",
       "      <td>NY</td>\n",
       "      <td>SOF</td>\n",
       "      <td>G</td>\n",
       "      <td>O</td>\n",
       "      <td>M</td>\n",
       "      <td>M</td>\n",
       "      <td>9.246658e+10</td>\n",
       "      <td>00049</td>\n",
       "      <td>105</td>\n",
       "      <td>105</td>\n",
       "      <td>2016</td>\n",
       "      <td>4</td>\n",
       "      <td>Sea</td>\n",
       "      <td>50</td>\n",
       "      <td>Pleasure</td>\n",
       "      <td>1966</td>\n",
       "      <td>2016-04-01</td>\n",
       "      <td>2016-04-12</td>\n",
       "    </tr>\n",
       "    <tr>\n",
       "      <th>2</th>\n",
       "      <td>2366</td>\n",
       "      <td>NYC</td>\n",
       "      <td>NJ</td>\n",
       "      <td>KRK</td>\n",
       "      <td>G</td>\n",
       "      <td>None</td>\n",
       "      <td>None</td>\n",
       "      <td>F</td>\n",
       "      <td>9.251262e+10</td>\n",
       "      <td>00026</td>\n",
       "      <td>107</td>\n",
       "      <td>107</td>\n",
       "      <td>2016</td>\n",
       "      <td>4</td>\n",
       "      <td>Sea</td>\n",
       "      <td>27</td>\n",
       "      <td>Pleasure</td>\n",
       "      <td>1989</td>\n",
       "      <td>2016-04-01</td>\n",
       "      <td>None</td>\n",
       "    </tr>\n",
       "    <tr>\n",
       "      <th>3</th>\n",
       "      <td>12027</td>\n",
       "      <td>CHI</td>\n",
       "      <td>GA</td>\n",
       "      <td>ATH</td>\n",
       "      <td>G</td>\n",
       "      <td>O</td>\n",
       "      <td>M</td>\n",
       "      <td>M</td>\n",
       "      <td>9.249945e+10</td>\n",
       "      <td>00087</td>\n",
       "      <td>113</td>\n",
       "      <td>113</td>\n",
       "      <td>2016</td>\n",
       "      <td>4</td>\n",
       "      <td>Sea</td>\n",
       "      <td>77</td>\n",
       "      <td>Pleasure</td>\n",
       "      <td>1939</td>\n",
       "      <td>2016-04-01</td>\n",
       "      <td>2016-07-28</td>\n",
       "    </tr>\n",
       "    <tr>\n",
       "      <th>4</th>\n",
       "      <td>12046</td>\n",
       "      <td>MIA</td>\n",
       "      <td>CA</td>\n",
       "      <td>BGN</td>\n",
       "      <td>G</td>\n",
       "      <td>O</td>\n",
       "      <td>M</td>\n",
       "      <td>M</td>\n",
       "      <td>9.246763e+10</td>\n",
       "      <td>00982</td>\n",
       "      <td>113</td>\n",
       "      <td>113</td>\n",
       "      <td>2016</td>\n",
       "      <td>4</td>\n",
       "      <td>Sea</td>\n",
       "      <td>40</td>\n",
       "      <td>Business</td>\n",
       "      <td>1976</td>\n",
       "      <td>2016-04-01</td>\n",
       "      <td>2016-04-06</td>\n",
       "    </tr>\n",
       "  </tbody>\n",
       "</table>\n",
       "</div>"
      ],
      "text/plain": [
       "   cicid arrivalPort State vissa_issued_state arrivalFlag departureFlag  \\\n",
       "0   2122         WAS    VA                SOF           G             O   \n",
       "1   2142         NYC    NY                SOF           G             O   \n",
       "2   2366         NYC    NJ                KRK           G          None   \n",
       "3  12027         CHI    GA                ATH           G             O   \n",
       "4  12046         MIA    CA                BGN           G             O   \n",
       "\n",
       "  matchFlag gender  admission_number flightNumber  bornCountry  \\\n",
       "0         M      M      9.247317e+10        00093          105   \n",
       "1         M      M      9.246658e+10        00049          105   \n",
       "2      None      F      9.251262e+10        00026          107   \n",
       "3         M      M      9.249945e+10        00087          113   \n",
       "4         M      M      9.246763e+10        00982          113   \n",
       "\n",
       "   residentCountry  year  month mode  age      visa  birthYear arrivalDate  \\\n",
       "0              105  2016      4  Sea   59  Pleasure       1957  2016-04-01   \n",
       "1              105  2016      4  Sea   50  Pleasure       1966  2016-04-01   \n",
       "2              107  2016      4  Sea   27  Pleasure       1989  2016-04-01   \n",
       "3              113  2016      4  Sea   77  Pleasure       1939  2016-04-01   \n",
       "4              113  2016      4  Sea   40  Business       1976  2016-04-01   \n",
       "\n",
       "  departureDate  \n",
       "0    2016-04-15  \n",
       "1    2016-04-12  \n",
       "2          None  \n",
       "3    2016-07-28  \n",
       "4    2016-04-06  "
      ]
     },
     "execution_count": 30,
     "metadata": {},
     "output_type": "execute_result"
    }
   ],
   "source": [
    "staging_imm_df1.limit(5).toPandas()"
   ]
  },
  {
   "cell_type": "markdown",
   "metadata": {
    "editable": true
   },
   "source": [
    "**Write to parquet files patitioned by year an month**"
   ]
  },
  {
   "cell_type": "code",
   "execution_count": 31,
   "metadata": {
    "editable": true
   },
   "outputs": [],
   "source": [
    "staging_imm_df1.write.mode('overwrite').partitionBy(\"year\",\"month\").parquet(output_data+'immegration_staging/')"
   ]
  },
  {
   "cell_type": "markdown",
   "metadata": {
    "editable": true
   },
   "source": [
    "**Cleansing for demographic data**"
   ]
  },
  {
   "cell_type": "code",
   "execution_count": 32,
   "metadata": {
    "editable": true
   },
   "outputs": [
    {
     "data": {
      "text/html": [
       "<div>\n",
       "<style scoped>\n",
       "    .dataframe tbody tr th:only-of-type {\n",
       "        vertical-align: middle;\n",
       "    }\n",
       "\n",
       "    .dataframe tbody tr th {\n",
       "        vertical-align: top;\n",
       "    }\n",
       "\n",
       "    .dataframe thead th {\n",
       "        text-align: right;\n",
       "    }\n",
       "</style>\n",
       "<table border=\"1\" class=\"dataframe\">\n",
       "  <thead>\n",
       "    <tr style=\"text-align: right;\">\n",
       "      <th></th>\n",
       "      <th>count</th>\n",
       "    </tr>\n",
       "  </thead>\n",
       "  <tbody>\n",
       "    <tr>\n",
       "      <th>Average Household Size</th>\n",
       "      <td>16</td>\n",
       "    </tr>\n",
       "    <tr>\n",
       "      <th>Number of Veterans</th>\n",
       "      <td>13</td>\n",
       "    </tr>\n",
       "    <tr>\n",
       "      <th>Foreign-born</th>\n",
       "      <td>13</td>\n",
       "    </tr>\n",
       "    <tr>\n",
       "      <th>Male Population</th>\n",
       "      <td>3</td>\n",
       "    </tr>\n",
       "    <tr>\n",
       "      <th>Female Population</th>\n",
       "      <td>3</td>\n",
       "    </tr>\n",
       "    <tr>\n",
       "      <th>City</th>\n",
       "      <td>0</td>\n",
       "    </tr>\n",
       "    <tr>\n",
       "      <th>State</th>\n",
       "      <td>0</td>\n",
       "    </tr>\n",
       "    <tr>\n",
       "      <th>Median Age</th>\n",
       "      <td>0</td>\n",
       "    </tr>\n",
       "    <tr>\n",
       "      <th>Total Population</th>\n",
       "      <td>0</td>\n",
       "    </tr>\n",
       "    <tr>\n",
       "      <th>State Code</th>\n",
       "      <td>0</td>\n",
       "    </tr>\n",
       "    <tr>\n",
       "      <th>Race</th>\n",
       "      <td>0</td>\n",
       "    </tr>\n",
       "    <tr>\n",
       "      <th>Count</th>\n",
       "      <td>0</td>\n",
       "    </tr>\n",
       "  </tbody>\n",
       "</table>\n",
       "</div>"
      ],
      "text/plain": [
       "                        count\n",
       "Average Household Size     16\n",
       "Number of Veterans         13\n",
       "Foreign-born               13\n",
       "Male Population             3\n",
       "Female Population           3\n",
       "City                        0\n",
       "State                       0\n",
       "Median Age                  0\n",
       "Total Population            0\n",
       "State Code                  0\n",
       "Race                        0\n",
       "Count                       0"
      ]
     },
     "execution_count": 32,
     "metadata": {},
     "output_type": "execute_result"
    }
   ],
   "source": [
    "count_missings(demo_df)"
   ]
  },
  {
   "cell_type": "code",
   "execution_count": 34,
   "metadata": {
    "editable": true
   },
   "outputs": [
    {
     "name": "stdout",
     "output_type": "stream",
     "text": [
      "root\n",
      " |-- City: string (nullable = true)\n",
      " |-- State: string (nullable = true)\n",
      " |-- Median Age: string (nullable = true)\n",
      " |-- Male Population: string (nullable = true)\n",
      " |-- Female Population: string (nullable = true)\n",
      " |-- Total Population: string (nullable = true)\n",
      " |-- Number of Veterans: string (nullable = true)\n",
      " |-- Foreign-born: string (nullable = true)\n",
      " |-- Average Household Size: string (nullable = true)\n",
      " |-- State Code: string (nullable = true)\n",
      " |-- Race: string (nullable = true)\n",
      " |-- Count: string (nullable = true)\n",
      "\n"
     ]
    }
   ],
   "source": [
    "demo_df.printSchema()"
   ]
  },
  {
   "cell_type": "code",
   "execution_count": 14,
   "metadata": {
    "editable": true
   },
   "outputs": [],
   "source": [
    "Staging_demo_df = demo_df \\\n",
    ".withColumn(\"MedianAge\", col(\"Median Age\").cast(\"integer\")) \\\n",
    ".withColumn(\"MalePopulation\", col(\"Male Population\").cast(\"integer\")) \\\n",
    ".withColumn(\"FemalePopulation\", col(\"Female Population\").cast(\"integer\")) \\\n",
    ".withColumn(\"TotalPopulation\", col(\"Total Population\").cast(\"integer\")) \\\n",
    ".withColumn(\"NumberOfVeterans\", col(\"Number of Veterans\").cast(\"integer\")) \\\n",
    ".withColumn(\"Foreign-born\", col(\"Foreign-born\").cast(\"integer\")) \\\n",
    ".withColumn(\"AverageHouseholdSize\", col(\"Average Household Size\").cast(\"integer\")) \\\n",
    ".withColumn(\"Count\", col(\"Count\").cast(\"integer\"))\\\n",
    ".withColumn(\"StateCode\", col(\"State Code\"))\\\n",
    ".drop(\"Median Age\", \"Male Population\", \"Female Population\", \"Number of Veterans\",  \"Average Household Size\", \"State Code\")"
   ]
  },
  {
   "cell_type": "code",
   "execution_count": 15,
   "metadata": {
    "editable": true
   },
   "outputs": [
    {
     "name": "stdout",
     "output_type": "stream",
     "text": [
      "Staging deographics data schema:\n",
      "root\n",
      " |-- City: string (nullable = true)\n",
      " |-- State: string (nullable = true)\n",
      " |-- Total Population: string (nullable = true)\n",
      " |-- Foreign-born: integer (nullable = true)\n",
      " |-- Race: string (nullable = true)\n",
      " |-- Count: integer (nullable = true)\n",
      " |-- MedianAge: integer (nullable = true)\n",
      " |-- MalePopulation: integer (nullable = true)\n",
      " |-- FemalePopulation: integer (nullable = true)\n",
      " |-- TotalPopulation: integer (nullable = true)\n",
      " |-- NumberOfVeterans: integer (nullable = true)\n",
      " |-- AverageHouseholdSize: integer (nullable = true)\n",
      " |-- StateCode: string (nullable = true)\n",
      "\n"
     ]
    }
   ],
   "source": [
    "print(\"Staging deographics data schema:\")\n",
    "Staging_demo_df.printSchema()"
   ]
  },
  {
   "cell_type": "markdown",
   "metadata": {
    "editable": true
   },
   "source": [
    "**aggregate demographics data based on State,State Code and City**"
   ]
  },
  {
   "cell_type": "code",
   "execution_count": 16,
   "metadata": {
    "editable": true
   },
   "outputs": [],
   "source": [
    "Staging_demo_df = Staging_demo_df.groupBy(col(\"StateCode\"), col(\"State\"),col(\"City\")).agg(\n",
    "round(mean('MedianAge'), 2),\\\n",
    "sum(\"TotalPopulation\"),\\\n",
    "sum(\"MalePopulation\"), \\\n",
    "sum(\"FemalePopulation\"),\\\n",
    "sum(\"NumberOfVeterans\"),\\\n",
    "sum(\"Foreign-born\"),\\\n",
    "round(mean(\"AverageHouseholdSize\"),2)\n",
    ").dropna()"
   ]
  },
  {
   "cell_type": "code",
   "execution_count": 17,
   "metadata": {
    "editable": true
   },
   "outputs": [],
   "source": [
    "Staging_demo_df = Staging_demo_df.withColumnRenamed('round(avg(MedianAge), 2)','MedianAge')\\\n",
    ".withColumnRenamed('sum(TotalPopulation)','TotalPopulation')\\\n",
    ".withColumnRenamed('sum(MalePopulation)','MalePopulation')\\\n",
    ".withColumnRenamed('sum(FemalePopulation)','FemalePopulation')\\\n",
    ".withColumnRenamed('sum(NumberOfVeterans)','NumberOfVeterans')\\\n",
    ".withColumnRenamed('sum(Foreign-born)','Foreign-born')\\\n",
    ".withColumnRenamed('round(avg(AverageHouseholdSize), 2)','AverageHouseholdSize')"
   ]
  },
  {
   "cell_type": "code",
   "execution_count": 39,
   "metadata": {
    "editable": true
   },
   "outputs": [
    {
     "name": "stdout",
     "output_type": "stream",
     "text": [
      "root\n",
      " |-- StateCode: string (nullable = true)\n",
      " |-- State: string (nullable = true)\n",
      " |-- City: string (nullable = true)\n",
      " |-- MedianAge: double (nullable = true)\n",
      " |-- TotalPopulation: long (nullable = true)\n",
      " |-- MalePopulation: long (nullable = true)\n",
      " |-- FemalePopulation: long (nullable = true)\n",
      " |-- NumberOfVeterans: long (nullable = true)\n",
      " |-- Foreign-born: long (nullable = true)\n",
      " |-- AverageHouseholdSize: double (nullable = true)\n",
      "\n"
     ]
    }
   ],
   "source": [
    "Staging_demo_df.printSchema()"
   ]
  },
  {
   "cell_type": "code",
   "execution_count": 40,
   "metadata": {
    "editable": true
   },
   "outputs": [
    {
     "data": {
      "text/html": [
       "<div>\n",
       "<style scoped>\n",
       "    .dataframe tbody tr th:only-of-type {\n",
       "        vertical-align: middle;\n",
       "    }\n",
       "\n",
       "    .dataframe tbody tr th {\n",
       "        vertical-align: top;\n",
       "    }\n",
       "\n",
       "    .dataframe thead th {\n",
       "        text-align: right;\n",
       "    }\n",
       "</style>\n",
       "<table border=\"1\" class=\"dataframe\">\n",
       "  <thead>\n",
       "    <tr style=\"text-align: right;\">\n",
       "      <th></th>\n",
       "      <th>StateCode</th>\n",
       "      <th>State</th>\n",
       "      <th>City</th>\n",
       "      <th>MedianAge</th>\n",
       "      <th>TotalPopulation</th>\n",
       "      <th>MalePopulation</th>\n",
       "      <th>FemalePopulation</th>\n",
       "      <th>NumberOfVeterans</th>\n",
       "      <th>Foreign-born</th>\n",
       "      <th>AverageHouseholdSize</th>\n",
       "    </tr>\n",
       "  </thead>\n",
       "  <tbody>\n",
       "    <tr>\n",
       "      <th>0</th>\n",
       "      <td>MD</td>\n",
       "      <td>Maryland</td>\n",
       "      <td>Silver Spring</td>\n",
       "      <td>33.0</td>\n",
       "      <td>412315</td>\n",
       "      <td>203005</td>\n",
       "      <td>209310</td>\n",
       "      <td>7810</td>\n",
       "      <td>154540</td>\n",
       "      <td>2.0</td>\n",
       "    </tr>\n",
       "    <tr>\n",
       "      <th>1</th>\n",
       "      <td>WA</td>\n",
       "      <td>Washington</td>\n",
       "      <td>Seattle</td>\n",
       "      <td>35.0</td>\n",
       "      <td>3422215</td>\n",
       "      <td>1728295</td>\n",
       "      <td>1693920</td>\n",
       "      <td>146820</td>\n",
       "      <td>599200</td>\n",
       "      <td>2.0</td>\n",
       "    </tr>\n",
       "    <tr>\n",
       "      <th>2</th>\n",
       "      <td>TX</td>\n",
       "      <td>Texas</td>\n",
       "      <td>Grand Prairie</td>\n",
       "      <td>33.0</td>\n",
       "      <td>938775</td>\n",
       "      <td>454055</td>\n",
       "      <td>484720</td>\n",
       "      <td>35365</td>\n",
       "      <td>224440</td>\n",
       "      <td>3.0</td>\n",
       "    </tr>\n",
       "    <tr>\n",
       "      <th>3</th>\n",
       "      <td>IL</td>\n",
       "      <td>Illinois</td>\n",
       "      <td>Rockford</td>\n",
       "      <td>36.0</td>\n",
       "      <td>746730</td>\n",
       "      <td>355380</td>\n",
       "      <td>391350</td>\n",
       "      <td>44470</td>\n",
       "      <td>91615</td>\n",
       "      <td>2.0</td>\n",
       "    </tr>\n",
       "    <tr>\n",
       "      <th>4</th>\n",
       "      <td>MI</td>\n",
       "      <td>Michigan</td>\n",
       "      <td>Westland</td>\n",
       "      <td>39.0</td>\n",
       "      <td>409975</td>\n",
       "      <td>188710</td>\n",
       "      <td>221265</td>\n",
       "      <td>23780</td>\n",
       "      <td>32145</td>\n",
       "      <td>2.0</td>\n",
       "    </tr>\n",
       "  </tbody>\n",
       "</table>\n",
       "</div>"
      ],
      "text/plain": [
       "  StateCode       State           City  MedianAge  TotalPopulation  \\\n",
       "0        MD    Maryland  Silver Spring       33.0           412315   \n",
       "1        WA  Washington        Seattle       35.0          3422215   \n",
       "2        TX       Texas  Grand Prairie       33.0           938775   \n",
       "3        IL    Illinois       Rockford       36.0           746730   \n",
       "4        MI    Michigan       Westland       39.0           409975   \n",
       "\n",
       "   MalePopulation  FemalePopulation  NumberOfVeterans  Foreign-born  \\\n",
       "0          203005            209310              7810        154540   \n",
       "1         1728295           1693920            146820        599200   \n",
       "2          454055            484720             35365        224440   \n",
       "3          355380            391350             44470         91615   \n",
       "4          188710            221265             23780         32145   \n",
       "\n",
       "   AverageHouseholdSize  \n",
       "0                   2.0  \n",
       "1                   2.0  \n",
       "2                   3.0  \n",
       "3                   2.0  \n",
       "4                   2.0  "
      ]
     },
     "execution_count": 40,
     "metadata": {},
     "output_type": "execute_result"
    }
   ],
   "source": [
    "Staging_demo_df.limit(5).toPandas()"
   ]
  },
  {
   "cell_type": "markdown",
   "metadata": {
    "editable": true
   },
   "source": [
    "**Write to parquet file**"
   ]
  },
  {
   "cell_type": "code",
   "execution_count": 41,
   "metadata": {
    "editable": true
   },
   "outputs": [],
   "source": [
    "Staging_demo_df.write.mode('overwrite').parquet(output_data+'demographics_staging/')"
   ]
  },
  {
   "cell_type": "markdown",
   "metadata": {
    "editable": true
   },
   "source": [
    "**Cleansing for Countries data**"
   ]
  },
  {
   "cell_type": "code",
   "execution_count": 18,
   "metadata": {
    "editable": true
   },
   "outputs": [],
   "source": [
    "# delete unneeded data\n",
    "Staging_countries_df = countries_df.select('code','country').where(\"country not like 'INVALID%'\").select('code','country')\\\n",
    ".where(\"country not like 'No Country Code%'\")\\\n",
    ".where(\"country not like 'Collapsed%'\")\n",
    "#Staging_countries_df1 = Staging_countries_df.select('country').where(\"country not like 'No Country Code%'\")"
   ]
  },
  {
   "cell_type": "code",
   "execution_count": 43,
   "metadata": {
    "editable": true
   },
   "outputs": [
    {
     "data": {
      "text/html": [
       "<div>\n",
       "<style scoped>\n",
       "    .dataframe tbody tr th:only-of-type {\n",
       "        vertical-align: middle;\n",
       "    }\n",
       "\n",
       "    .dataframe tbody tr th {\n",
       "        vertical-align: top;\n",
       "    }\n",
       "\n",
       "    .dataframe thead th {\n",
       "        text-align: right;\n",
       "    }\n",
       "</style>\n",
       "<table border=\"1\" class=\"dataframe\">\n",
       "  <thead>\n",
       "    <tr style=\"text-align: right;\">\n",
       "      <th></th>\n",
       "      <th>code</th>\n",
       "      <th>country</th>\n",
       "    </tr>\n",
       "  </thead>\n",
       "  <tbody>\n",
       "    <tr>\n",
       "      <th>0</th>\n",
       "      <td>582</td>\n",
       "      <td>MEXICO</td>\n",
       "    </tr>\n",
       "    <tr>\n",
       "      <th>1</th>\n",
       "      <td>236</td>\n",
       "      <td>AFGHANISTAN</td>\n",
       "    </tr>\n",
       "    <tr>\n",
       "      <th>2</th>\n",
       "      <td>101</td>\n",
       "      <td>ALBANIA</td>\n",
       "    </tr>\n",
       "    <tr>\n",
       "      <th>3</th>\n",
       "      <td>316</td>\n",
       "      <td>ALGERIA</td>\n",
       "    </tr>\n",
       "    <tr>\n",
       "      <th>4</th>\n",
       "      <td>102</td>\n",
       "      <td>ANDORRA</td>\n",
       "    </tr>\n",
       "  </tbody>\n",
       "</table>\n",
       "</div>"
      ],
      "text/plain": [
       "  code      country\n",
       "0  582      MEXICO \n",
       "1  236  AFGHANISTAN\n",
       "2  101      ALBANIA\n",
       "3  316      ALGERIA\n",
       "4  102      ANDORRA"
      ]
     },
     "execution_count": 43,
     "metadata": {},
     "output_type": "execute_result"
    }
   ],
   "source": [
    "Staging_countries_df.limit(5).toPandas()"
   ]
  },
  {
   "cell_type": "markdown",
   "metadata": {
    "editable": true
   },
   "source": [
    "**Write to parquet file**"
   ]
  },
  {
   "cell_type": "code",
   "execution_count": 44,
   "metadata": {
    "editable": true
   },
   "outputs": [],
   "source": [
    "Staging_countries_df.write.mode('overwrite').parquet(output_data+'countries_staging/')"
   ]
  },
  {
   "cell_type": "markdown",
   "metadata": {
    "editable": true
   },
   "source": [
    "### Step 3: Define the Data Model\n",
    "#### 3.1 Conceptual Data Model\n",
    "Map out the conceptual data model and explain why you chose that model\n",
    "\n",
    "For the project, Star schemas create a fact table linked to associated dimension tables via primary/ foreign key relationships.\n",
    "- The country dimension table contains valid code and relevant countries for allows analysts to map between code and relevant country.\n",
    "- The U.S. demographics dimension table comes from the demographics dataset and links to the immigration fact table at the U.S. state level. This   dimension would allow analysts to get insights into migration patterns into the U.S. based on demographics and states' overall population. \n",
    "- The person dimension tabla comes from the immigration dataset and links to the immigration fact table with cicid. This dimension would allow analysts to get insights into migration data such as age, gender, and nationality.\n",
    "- The time dimension tabla comes from the immigration dataset and links to the immigration fact table with arrivalDate. This dimension would allow analysts to get insights about arrival date in more detail.\n",
    "- The immigration fact table this table's data comes from the immigration dataset and contains keys that link to the dimension tables also with columns needed to have more understand the migrant status such as visa,visa_type, and port.\n",
    "\n",
    "\n"
   ]
  },
  {
   "cell_type": "code",
   "execution_count": 73,
   "metadata": {
    "editable": true
   },
   "outputs": [
    {
     "data": {
      "image/png": "[encoded data removed]",
      "text/plain": [
       "<IPython.core.display.Image object>"
      ]
     },
     "execution_count": 73,
     "metadata": {
      "image/png": {
       "height": 300,
       "width": 600
      }
     },
     "output_type": "execute_result"
    }
   ],
   "source": [
    "Image(filename = \"data_model.png\", width = 600, height = 300)"
   ]
  },
  {
   "cell_type": "markdown",
   "metadata": {
    "editable": true
   },
   "source": [
    "#### 3.2 Mapping Out Data Pipelines\n",
    "List the steps necessary to pipeline the data into the chosen data model\n",
    " \n",
    "The pipeline steps are as follows:\n",
    "- Load and clean all the datasets and save them as staging tables\n",
    "- Create a person dimension table\n",
    "- Create a time dimension table\n",
    "- Create a demographic dimension table\n",
    "- Create a country dimension table\n",
    "- Create an immigration fact table"
   ]
  },
  {
   "cell_type": "markdown",
   "metadata": {
    "editable": true
   },
   "source": [
    "### Step 4: Run Pipelines to Model the Data \n",
    "#### 4.1 Create the data model\n",
    "Build the data pipelines to create the data model."
   ]
  },
  {
   "cell_type": "markdown",
   "metadata": {
    "editable": true
   },
   "source": [
    "**Create fact and dimension tables**"
   ]
  },
  {
   "cell_type": "code",
   "execution_count": 19,
   "metadata": {
    "editable": true
   },
   "outputs": [],
   "source": [
    "#  create a view of the immigration dataset\n",
    "staging_imm_df1.createOrReplaceTempView(\"immigration_staging_table\")"
   ]
  },
  {
   "cell_type": "markdown",
   "metadata": {
    "editable": true
   },
   "source": [
    "**Dimension Table: person table**"
   ]
  },
  {
   "cell_type": "code",
   "execution_count": 20,
   "metadata": {
    "editable": true
   },
   "outputs": [],
   "source": [
    "person_table = spark.sql(\"\"\"\n",
    "        \n",
    "        SELECT DISTINCT cicid as person_id,bornCountry, birthYear, gender,age ,admission_number\n",
    "        FROM immigration_staging_table\n",
    "        \n",
    "        \"\"\")\n",
    "\n"
   ]
  },
  {
   "cell_type": "code",
   "execution_count": 49,
   "metadata": {
    "editable": true
   },
   "outputs": [
    {
     "data": {
      "text/html": [
       "<div>\n",
       "<style scoped>\n",
       "    .dataframe tbody tr th:only-of-type {\n",
       "        vertical-align: middle;\n",
       "    }\n",
       "\n",
       "    .dataframe tbody tr th {\n",
       "        vertical-align: top;\n",
       "    }\n",
       "\n",
       "    .dataframe thead th {\n",
       "        text-align: right;\n",
       "    }\n",
       "</style>\n",
       "<table border=\"1\" class=\"dataframe\">\n",
       "  <thead>\n",
       "    <tr style=\"text-align: right;\">\n",
       "      <th></th>\n",
       "      <th>person_id</th>\n",
       "      <th>bornCountry</th>\n",
       "      <th>birthYear</th>\n",
       "      <th>gender</th>\n",
       "      <th>age</th>\n",
       "      <th>admission_number</th>\n",
       "    </tr>\n",
       "  </thead>\n",
       "  <tbody>\n",
       "    <tr>\n",
       "      <th>0</th>\n",
       "      <td>221209</td>\n",
       "      <td>105</td>\n",
       "      <td>1974</td>\n",
       "      <td>F</td>\n",
       "      <td>42</td>\n",
       "      <td>9.257747e+10</td>\n",
       "    </tr>\n",
       "    <tr>\n",
       "      <th>1</th>\n",
       "      <td>417197</td>\n",
       "      <td>687</td>\n",
       "      <td>1975</td>\n",
       "      <td>F</td>\n",
       "      <td>41</td>\n",
       "      <td>9.259211e+10</td>\n",
       "    </tr>\n",
       "    <tr>\n",
       "      <th>2</th>\n",
       "      <td>806482</td>\n",
       "      <td>691</td>\n",
       "      <td>1964</td>\n",
       "      <td>M</td>\n",
       "      <td>52</td>\n",
       "      <td>9.272597e+10</td>\n",
       "    </tr>\n",
       "    <tr>\n",
       "      <th>3</th>\n",
       "      <td>1037948</td>\n",
       "      <td>245</td>\n",
       "      <td>1956</td>\n",
       "      <td>F</td>\n",
       "      <td>60</td>\n",
       "      <td>9.288491e+10</td>\n",
       "    </tr>\n",
       "    <tr>\n",
       "      <th>4</th>\n",
       "      <td>1544612</td>\n",
       "      <td>687</td>\n",
       "      <td>1998</td>\n",
       "      <td>M</td>\n",
       "      <td>18</td>\n",
       "      <td>7.326250e+08</td>\n",
       "    </tr>\n",
       "  </tbody>\n",
       "</table>\n",
       "</div>"
      ],
      "text/plain": [
       "   person_id  bornCountry  birthYear gender  age  admission_number\n",
       "0     221209          105       1974      F   42      9.257747e+10\n",
       "1     417197          687       1975      F   41      9.259211e+10\n",
       "2     806482          691       1964      M   52      9.272597e+10\n",
       "3    1037948          245       1956      F   60      9.288491e+10\n",
       "4    1544612          687       1998      M   18      7.326250e+08"
      ]
     },
     "execution_count": 49,
     "metadata": {},
     "output_type": "execute_result"
    }
   ],
   "source": [
    "person_table.limit(5).toPandas()"
   ]
  },
  {
   "cell_type": "code",
   "execution_count": 50,
   "metadata": {
    "editable": true
   },
   "outputs": [
    {
     "name": "stdout",
     "output_type": "stream",
     "text": [
      "(1214152, 6)\n"
     ]
    }
   ],
   "source": [
    "print((person_table.count(), len(person_table.columns)))"
   ]
  },
  {
   "cell_type": "code",
   "execution_count": 21,
   "metadata": {
    "editable": true
   },
   "outputs": [],
   "source": [
    "person_table.createOrReplaceTempView(\"person_table\")"
   ]
  },
  {
   "cell_type": "markdown",
   "metadata": {
    "editable": true
   },
   "source": [
    "**Dimension Table: time table**"
   ]
  },
  {
   "cell_type": "code",
   "execution_count": 22,
   "metadata": {
    "editable": true
   },
   "outputs": [],
   "source": [
    "Arrivale_Date_table = staging_imm_df1.withColumn(\"day\",F.dayofmonth(\"arrivalDate\"))\\\n",
    "                    .withColumn(\"week\",F.weekofyear(\"arrivalDate\"))\\\n",
    "                    .withColumn(\"month\",F.month(\"arrivalDate\"))\\\n",
    "                    .withColumn(\"year\",F.year(\"arrivalDate\"))\\\n",
    "                    .withColumn(\"weekday\",F.dayofweek(\"arrivalDate\"))\\\n",
    "                    .select(\"arrivalDate\",\"day\",\"week\", \"month\", \"year\", \"weekday\")\n",
    "time_table = Arrivale_Date_table.dropDuplicates(['arrivalDate'])"
   ]
  },
  {
   "cell_type": "code",
   "execution_count": 53,
   "metadata": {
    "editable": true
   },
   "outputs": [
    {
     "data": {
      "text/html": [
       "<div>\n",
       "<style scoped>\n",
       "    .dataframe tbody tr th:only-of-type {\n",
       "        vertical-align: middle;\n",
       "    }\n",
       "\n",
       "    .dataframe tbody tr th {\n",
       "        vertical-align: top;\n",
       "    }\n",
       "\n",
       "    .dataframe thead th {\n",
       "        text-align: right;\n",
       "    }\n",
       "</style>\n",
       "<table border=\"1\" class=\"dataframe\">\n",
       "  <thead>\n",
       "    <tr style=\"text-align: right;\">\n",
       "      <th></th>\n",
       "      <th>arrivalDate</th>\n",
       "      <th>day</th>\n",
       "      <th>week</th>\n",
       "      <th>month</th>\n",
       "      <th>year</th>\n",
       "      <th>weekday</th>\n",
       "    </tr>\n",
       "  </thead>\n",
       "  <tbody>\n",
       "    <tr>\n",
       "      <th>0</th>\n",
       "      <td>2016-04-25</td>\n",
       "      <td>25</td>\n",
       "      <td>17</td>\n",
       "      <td>4</td>\n",
       "      <td>2016</td>\n",
       "      <td>2</td>\n",
       "    </tr>\n",
       "    <tr>\n",
       "      <th>1</th>\n",
       "      <td>2016-04-22</td>\n",
       "      <td>22</td>\n",
       "      <td>16</td>\n",
       "      <td>4</td>\n",
       "      <td>2016</td>\n",
       "      <td>6</td>\n",
       "    </tr>\n",
       "    <tr>\n",
       "      <th>2</th>\n",
       "      <td>2016-04-30</td>\n",
       "      <td>30</td>\n",
       "      <td>17</td>\n",
       "      <td>4</td>\n",
       "      <td>2016</td>\n",
       "      <td>7</td>\n",
       "    </tr>\n",
       "    <tr>\n",
       "      <th>3</th>\n",
       "      <td>2016-04-26</td>\n",
       "      <td>26</td>\n",
       "      <td>17</td>\n",
       "      <td>4</td>\n",
       "      <td>2016</td>\n",
       "      <td>3</td>\n",
       "    </tr>\n",
       "    <tr>\n",
       "      <th>4</th>\n",
       "      <td>2016-04-04</td>\n",
       "      <td>4</td>\n",
       "      <td>14</td>\n",
       "      <td>4</td>\n",
       "      <td>2016</td>\n",
       "      <td>2</td>\n",
       "    </tr>\n",
       "  </tbody>\n",
       "</table>\n",
       "</div>"
      ],
      "text/plain": [
       "  arrivalDate  day  week  month  year  weekday\n",
       "0  2016-04-25   25    17      4  2016        2\n",
       "1  2016-04-22   22    16      4  2016        6\n",
       "2  2016-04-30   30    17      4  2016        7\n",
       "3  2016-04-26   26    17      4  2016        3\n",
       "4  2016-04-04    4    14      4  2016        2"
      ]
     },
     "execution_count": 53,
     "metadata": {},
     "output_type": "execute_result"
    }
   ],
   "source": [
    "time_table.limit(5).toPandas()"
   ]
  },
  {
   "cell_type": "code",
   "execution_count": 54,
   "metadata": {
    "editable": true
   },
   "outputs": [
    {
     "name": "stdout",
     "output_type": "stream",
     "text": [
      "(30, 6)\n"
     ]
    }
   ],
   "source": [
    "print((time_table.count(), len(time_table.columns)))"
   ]
  },
  {
   "cell_type": "code",
   "execution_count": 23,
   "metadata": {
    "editable": true
   },
   "outputs": [],
   "source": [
    "time_table.createOrReplaceTempView(\"time_table\")"
   ]
  },
  {
   "cell_type": "markdown",
   "metadata": {
    "editable": true
   },
   "source": [
    "**Dimension Table: time table**"
   ]
  },
  {
   "cell_type": "code",
   "execution_count": 24,
   "metadata": {
    "editable": true
   },
   "outputs": [],
   "source": [
    "# create a view of the country dataset\n",
    "Staging_countries_df.createOrReplaceTempView(\"Country_table\")"
   ]
  },
  {
   "cell_type": "code",
   "execution_count": 25,
   "metadata": {
    "editable": true
   },
   "outputs": [],
   "source": [
    "country_table = spark.sql(\"\"\"\n",
    "        \n",
    "        SELECT DISTINCT code, country\n",
    "        FROM Country_table\n",
    "        \n",
    "        \"\"\")"
   ]
  },
  {
   "cell_type": "code",
   "execution_count": 58,
   "metadata": {
    "editable": true
   },
   "outputs": [
    {
     "name": "stdout",
     "output_type": "stream",
     "text": [
      "(236, 2)\n"
     ]
    }
   ],
   "source": [
    "print((country_table.count(), len(country_table.columns)))"
   ]
  },
  {
   "cell_type": "markdown",
   "metadata": {
    "editable": true
   },
   "source": [
    "**Dimension Table: demographics table**"
   ]
  },
  {
   "cell_type": "code",
   "execution_count": 26,
   "metadata": {
    "editable": true
   },
   "outputs": [],
   "source": [
    "# create a view of the dmographic dataset\n",
    "Staging_demo_df.createOrReplaceTempView(\"demographic_table\")"
   ]
  },
  {
   "cell_type": "code",
   "execution_count": 27,
   "metadata": {
    "editable": true
   },
   "outputs": [],
   "source": [
    "demographic_table = spark.sql(\"\"\"\n",
    "        \n",
    "        SELECT *\n",
    "        FROM demographic_table\n",
    "        \n",
    "        \"\"\")"
   ]
  },
  {
   "cell_type": "code",
   "execution_count": 61,
   "metadata": {
    "editable": true
   },
   "outputs": [
    {
     "name": "stdout",
     "output_type": "stream",
     "text": [
      "(588, 10)\n"
     ]
    }
   ],
   "source": [
    "print((demographic_table.count(), len(demographic_table.columns)))"
   ]
  },
  {
   "cell_type": "code",
   "execution_count": 62,
   "metadata": {
    "editable": true
   },
   "outputs": [
    {
     "data": {
      "text/html": [
       "<div>\n",
       "<style scoped>\n",
       "    .dataframe tbody tr th:only-of-type {\n",
       "        vertical-align: middle;\n",
       "    }\n",
       "\n",
       "    .dataframe tbody tr th {\n",
       "        vertical-align: top;\n",
       "    }\n",
       "\n",
       "    .dataframe thead th {\n",
       "        text-align: right;\n",
       "    }\n",
       "</style>\n",
       "<table border=\"1\" class=\"dataframe\">\n",
       "  <thead>\n",
       "    <tr style=\"text-align: right;\">\n",
       "      <th></th>\n",
       "      <th>StateCode</th>\n",
       "      <th>State</th>\n",
       "      <th>City</th>\n",
       "      <th>MedianAge</th>\n",
       "      <th>TotalPopulation</th>\n",
       "      <th>MalePopulation</th>\n",
       "      <th>FemalePopulation</th>\n",
       "      <th>NumberOfVeterans</th>\n",
       "      <th>Foreign-born</th>\n",
       "      <th>AverageHouseholdSize</th>\n",
       "    </tr>\n",
       "  </thead>\n",
       "  <tbody>\n",
       "    <tr>\n",
       "      <th>0</th>\n",
       "      <td>MD</td>\n",
       "      <td>Maryland</td>\n",
       "      <td>Silver Spring</td>\n",
       "      <td>33.0</td>\n",
       "      <td>412315</td>\n",
       "      <td>203005</td>\n",
       "      <td>209310</td>\n",
       "      <td>7810</td>\n",
       "      <td>154540</td>\n",
       "      <td>2.0</td>\n",
       "    </tr>\n",
       "    <tr>\n",
       "      <th>1</th>\n",
       "      <td>WA</td>\n",
       "      <td>Washington</td>\n",
       "      <td>Seattle</td>\n",
       "      <td>35.0</td>\n",
       "      <td>3422215</td>\n",
       "      <td>1728295</td>\n",
       "      <td>1693920</td>\n",
       "      <td>146820</td>\n",
       "      <td>599200</td>\n",
       "      <td>2.0</td>\n",
       "    </tr>\n",
       "    <tr>\n",
       "      <th>2</th>\n",
       "      <td>TX</td>\n",
       "      <td>Texas</td>\n",
       "      <td>Grand Prairie</td>\n",
       "      <td>33.0</td>\n",
       "      <td>938775</td>\n",
       "      <td>454055</td>\n",
       "      <td>484720</td>\n",
       "      <td>35365</td>\n",
       "      <td>224440</td>\n",
       "      <td>3.0</td>\n",
       "    </tr>\n",
       "    <tr>\n",
       "      <th>3</th>\n",
       "      <td>IL</td>\n",
       "      <td>Illinois</td>\n",
       "      <td>Rockford</td>\n",
       "      <td>36.0</td>\n",
       "      <td>746730</td>\n",
       "      <td>355380</td>\n",
       "      <td>391350</td>\n",
       "      <td>44470</td>\n",
       "      <td>91615</td>\n",
       "      <td>2.0</td>\n",
       "    </tr>\n",
       "    <tr>\n",
       "      <th>4</th>\n",
       "      <td>MI</td>\n",
       "      <td>Michigan</td>\n",
       "      <td>Westland</td>\n",
       "      <td>39.0</td>\n",
       "      <td>409975</td>\n",
       "      <td>188710</td>\n",
       "      <td>221265</td>\n",
       "      <td>23780</td>\n",
       "      <td>32145</td>\n",
       "      <td>2.0</td>\n",
       "    </tr>\n",
       "  </tbody>\n",
       "</table>\n",
       "</div>"
      ],
      "text/plain": [
       "  StateCode       State           City  MedianAge  TotalPopulation  \\\n",
       "0        MD    Maryland  Silver Spring       33.0           412315   \n",
       "1        WA  Washington        Seattle       35.0          3422215   \n",
       "2        TX       Texas  Grand Prairie       33.0           938775   \n",
       "3        IL    Illinois       Rockford       36.0           746730   \n",
       "4        MI    Michigan       Westland       39.0           409975   \n",
       "\n",
       "   MalePopulation  FemalePopulation  NumberOfVeterans  Foreign-born  \\\n",
       "0          203005            209310              7810        154540   \n",
       "1         1728295           1693920            146820        599200   \n",
       "2          454055            484720             35365        224440   \n",
       "3          355380            391350             44470         91615   \n",
       "4          188710            221265             23780         32145   \n",
       "\n",
       "   AverageHouseholdSize  \n",
       "0                   2.0  \n",
       "1                   2.0  \n",
       "2                   3.0  \n",
       "3                   2.0  \n",
       "4                   2.0  "
      ]
     },
     "execution_count": 62,
     "metadata": {},
     "output_type": "execute_result"
    }
   ],
   "source": [
    "demographic_table.limit(5).toPandas()"
   ]
  },
  {
   "cell_type": "markdown",
   "metadata": {
    "editable": true
   },
   "source": [
    "**Fact Table: immegration table**"
   ]
  },
  {
   "cell_type": "code",
   "execution_count": 28,
   "metadata": {
    "editable": true
   },
   "outputs": [],
   "source": [
    "immegration_table = spark.sql(\"\"\" \n",
    "    \n",
    "        SELECT  DISTINCT \n",
    "                p.person_id,\n",
    "                c.code as country_code,\n",
    "                i.arrivalPort,\n",
    "                t.arrivalDate,\n",
    "                i.mode,\n",
    "                d.statecode as state_code,\n",
    "                i.departureDate,\n",
    "                i.arrivalFlag,\n",
    "                i.departureFlag,\n",
    "                i.matchFlag,\n",
    "                i.flightNumber,\n",
    "                i.vissa_issued_state,\n",
    "                i.visa        \n",
    "        FROM immigration_staging_table i\n",
    "        JOIN\n",
    "        person_table p\n",
    "        ON  i.cicid  = p.person_id\n",
    "        JOIN\n",
    "         Country_table c\n",
    "        ON i.residentCountry = c.code\n",
    "        JOIN\n",
    "        demographic_table d\n",
    "        ON i.state = d.statecode\n",
    "        JOIN\n",
    "        time_table t\n",
    "        ON i.arrivalDate = t.arrivalDate\n",
    "\n",
    "                                 \n",
    "        \"\"\")\n"
   ]
  },
  {
   "cell_type": "code",
   "execution_count": 31,
   "metadata": {
    "editable": true
   },
   "outputs": [
    {
     "data": {
      "text/html": [
       "<div>\n",
       "<style scoped>\n",
       "    .dataframe tbody tr th:only-of-type {\n",
       "        vertical-align: middle;\n",
       "    }\n",
       "\n",
       "    .dataframe tbody tr th {\n",
       "        vertical-align: top;\n",
       "    }\n",
       "\n",
       "    .dataframe thead th {\n",
       "        text-align: right;\n",
       "    }\n",
       "</style>\n",
       "<table border=\"1\" class=\"dataframe\">\n",
       "  <thead>\n",
       "    <tr style=\"text-align: right;\">\n",
       "      <th></th>\n",
       "      <th>person_id</th>\n",
       "      <th>country_code</th>\n",
       "      <th>arrivalPort</th>\n",
       "      <th>arrivalDate</th>\n",
       "      <th>mode</th>\n",
       "      <th>state_code</th>\n",
       "      <th>departureDate</th>\n",
       "      <th>arrivalFlag</th>\n",
       "      <th>departureFlag</th>\n",
       "      <th>matchFlag</th>\n",
       "      <th>flightNumber</th>\n",
       "      <th>vissa_issued_state</th>\n",
       "      <th>visa</th>\n",
       "    </tr>\n",
       "  </thead>\n",
       "  <tbody>\n",
       "    <tr>\n",
       "      <th>0</th>\n",
       "      <td>4668589</td>\n",
       "      <td>101</td>\n",
       "      <td>NEW</td>\n",
       "      <td>2016-04-25</td>\n",
       "      <td>Sea</td>\n",
       "      <td>FL</td>\n",
       "      <td>2016-08-06</td>\n",
       "      <td>G</td>\n",
       "      <td>O</td>\n",
       "      <td>M</td>\n",
       "      <td>00089</td>\n",
       "      <td>TIA</td>\n",
       "      <td>Pleasure</td>\n",
       "    </tr>\n",
       "    <tr>\n",
       "      <th>1</th>\n",
       "      <td>4670175</td>\n",
       "      <td>107</td>\n",
       "      <td>NEW</td>\n",
       "      <td>2016-04-25</td>\n",
       "      <td>Sea</td>\n",
       "      <td>NJ</td>\n",
       "      <td>2016-05-09</td>\n",
       "      <td>G</td>\n",
       "      <td>O</td>\n",
       "      <td>M</td>\n",
       "      <td>00909</td>\n",
       "      <td>KRK</td>\n",
       "      <td>Pleasure</td>\n",
       "    </tr>\n",
       "    <tr>\n",
       "      <th>2</th>\n",
       "      <td>4670539</td>\n",
       "      <td>107</td>\n",
       "      <td>CHI</td>\n",
       "      <td>2016-04-25</td>\n",
       "      <td>Sea</td>\n",
       "      <td>IL</td>\n",
       "      <td>2016-05-09</td>\n",
       "      <td>G</td>\n",
       "      <td>O</td>\n",
       "      <td>M</td>\n",
       "      <td>00430</td>\n",
       "      <td>WRW</td>\n",
       "      <td>Pleasure</td>\n",
       "    </tr>\n",
       "    <tr>\n",
       "      <th>3</th>\n",
       "      <td>4670633</td>\n",
       "      <td>131</td>\n",
       "      <td>NYC</td>\n",
       "      <td>2016-04-25</td>\n",
       "      <td>Sea</td>\n",
       "      <td>NY</td>\n",
       "      <td>2016-05-03</td>\n",
       "      <td>G</td>\n",
       "      <td>O</td>\n",
       "      <td>M</td>\n",
       "      <td>00016</td>\n",
       "      <td>BEN</td>\n",
       "      <td>Pleasure</td>\n",
       "    </tr>\n",
       "    <tr>\n",
       "      <th>4</th>\n",
       "      <td>4676760</td>\n",
       "      <td>111</td>\n",
       "      <td>MIA</td>\n",
       "      <td>2016-04-25</td>\n",
       "      <td>Sea</td>\n",
       "      <td>FL</td>\n",
       "      <td>2016-05-01</td>\n",
       "      <td>G</td>\n",
       "      <td>N</td>\n",
       "      <td>M</td>\n",
       "      <td>01489</td>\n",
       "      <td>PTP</td>\n",
       "      <td>Pleasure</td>\n",
       "    </tr>\n",
       "  </tbody>\n",
       "</table>\n",
       "</div>"
      ],
      "text/plain": [
       "   person_id country_code arrivalPort arrivalDate mode state_code  \\\n",
       "0    4668589          101         NEW  2016-04-25  Sea         FL   \n",
       "1    4670175          107         NEW  2016-04-25  Sea         NJ   \n",
       "2    4670539          107         CHI  2016-04-25  Sea         IL   \n",
       "3    4670633          131         NYC  2016-04-25  Sea         NY   \n",
       "4    4676760          111         MIA  2016-04-25  Sea         FL   \n",
       "\n",
       "  departureDate arrivalFlag departureFlag matchFlag flightNumber  \\\n",
       "0    2016-08-06           G             O         M        00089   \n",
       "1    2016-05-09           G             O         M        00909   \n",
       "2    2016-05-09           G             O         M        00430   \n",
       "3    2016-05-03           G             O         M        00016   \n",
       "4    2016-05-01           G             N         M        01489   \n",
       "\n",
       "  vissa_issued_state      visa  \n",
       "0                TIA  Pleasure  \n",
       "1                KRK  Pleasure  \n",
       "2                WRW  Pleasure  \n",
       "3                BEN  Pleasure  \n",
       "4                PTP  Pleasure  "
      ]
     },
     "execution_count": 31,
     "metadata": {},
     "output_type": "execute_result"
    }
   ],
   "source": [
    "immegration_table.limit(5).toPandas()"
   ]
  },
  {
   "cell_type": "code",
   "execution_count": 67,
   "metadata": {
    "editable": true
   },
   "outputs": [
    {
     "name": "stdout",
     "output_type": "stream",
     "text": [
      "(1140736, 13)\n"
     ]
    }
   ],
   "source": [
    "print((immegration_table.count(), len(immegration_table.columns)))"
   ]
  },
  {
   "cell_type": "markdown",
   "metadata": {
    "editable": true
   },
   "source": [
    "#### 4.2 Data Quality Checks\n",
    "Explain the data quality checks you'll perform to ensure the pipeline ran as expected. These could include:\n",
    " * Integrity constraints on the relational database (e.g., unique key, data type, etc.)\n",
    " * Unit tests for the scripts to ensure they are doing the right thing\n",
    " * Source/Count checks to ensure completeness\n",
    " \n",
    "Run Quality Checks"
   ]
  },
  {
   "cell_type": "markdown",
   "metadata": {
    "editable": true
   },
   "source": [
    "- In this project, the Count of tables is used to check tables to ensure completeness."
   ]
  },
  {
   "cell_type": "code",
   "execution_count": 68,
   "metadata": {
    "editable": true
   },
   "outputs": [],
   "source": [
    "# Perform quality checks here\n",
    "def DQ_checks(table):\n",
    "    \"\"\"\n",
    "     Count checks on fact and dimension tables to ensure if table contains records or not.\n",
    "     param table:table to check counts on\n",
    "    \"\"\"\n",
    "    count = table.count()\n",
    "\n",
    "    if count == 0:\n",
    "        print(f\"Data quality check failed with zero records!\")\n",
    "    else:\n",
    "        print(f\"Data quality check passed with {count:,} records.\")\n",
    "    return 0"
   ]
  },
  {
   "cell_type": "code",
   "execution_count": 69,
   "metadata": {
    "editable": true
   },
   "outputs": [
    {
     "name": "stdout",
     "output_type": "stream",
     "text": [
      " Immigration  \n",
      "Data quality check passed with 1,140,736 records.\n",
      "\n",
      " Demographics\n",
      "Data quality check passed with 588 records.\n",
      "\n",
      " Countries\n",
      "Data quality check passed with 236 records.\n",
      "\n",
      "person\n",
      "Data quality check passed with 1,214,152 records.\n",
      "\n",
      "time\n",
      "Data quality check passed with 30 records.\n",
      "\n"
     ]
    }
   ],
   "source": [
    "# Performing DQ cheking tasks here\n",
    "print(\"Immigration \")\n",
    "DQ_checks(immegration_table)\n",
    "print()\n",
    "print(\"Demographics\")\n",
    "DQ_checks(demographic_table)\n",
    "print()\n",
    "print(\"Countries\")\n",
    "DQ_checks(country_table)\n",
    "print()\n",
    "print('person')\n",
    "DQ_checks(person_table)\n",
    "print()\n",
    "print('time')\n",
    "DQ_checks(time_table)\n",
    "print()"
   ]
  },
  {
   "cell_type": "code",
   "execution_count": 35,
   "metadata": {
    "editable": true
   },
   "outputs": [],
   "source": [
    "def table_exists(table):\n",
    "    if table is not None:\n",
    "        print(f\"data quality check passed, table {table} is exist\")\n",
    "        print()   \n",
    "    else:\n",
    "        print(f\"data quality check failed, table {table} is not exist\")\n",
    "    return 0\n"
   ]
  },
  {
   "cell_type": "code",
   "execution_count": 36,
   "metadata": {
    "editable": true
   },
   "outputs": [
    {
     "name": "stdout",
     "output_type": "stream",
     "text": [
      "Immigration \n",
      "data quality check passed, table DataFrame[person_id: int, country_code: string, arrivalPort: string, arrivalDate: date, mode: string, state_code: string, departureDate: date, arrivalFlag: string, departureFlag: string, matchFlag: string, flightNumber: string, vissa_issued_state: string, visa: string] is exist\n",
      "\n",
      "\n",
      "Demographics\n",
      "data quality check passed, table DataFrame[StateCode: string, State: string, City: string, MedianAge: double, TotalPopulation: bigint, MalePopulation: bigint, FemalePopulation: bigint, NumberOfVeterans: bigint, Foreign-born: bigint, AverageHouseholdSize: double] is exist\n",
      "\n",
      "\n",
      "Countries\n",
      "data quality check passed, table DataFrame[code: string, country: string] is exist\n",
      "\n",
      "\n",
      "person\n",
      "data quality check passed, table DataFrame[person_id: int, bornCountry: int, birthYear: int, gender: string, age: int, admission_number: double] is exist\n",
      "\n",
      "\n",
      "time\n",
      "data quality check passed, table DataFrame[arrivalDate: date, day: int, week: int, month: int, year: int, weekday: int] is exist\n",
      "\n",
      "\n"
     ]
    }
   ],
   "source": [
    "print(\"Immigration \")\n",
    "table_exists(immegration_table)\n",
    "print()\n",
    "print(\"Demographics\")\n",
    "table_exists(demographic_table)\n",
    "print()\n",
    "print(\"Countries\")\n",
    "table_exists(country_table)\n",
    "print()\n",
    "print('person')\n",
    "table_exists(person_table)\n",
    "print()\n",
    "print('time')\n",
    "table_exists(time_table)\n",
    "print()"
   ]
  },
  {
   "cell_type": "markdown",
   "metadata": {
    "editable": true
   },
   "source": [
    "#### Step 5: Complete Project Write Up\n",
    " The rationale for the choice of tools and technologies for the project\n",
    "       \n",
    "  Apache spark used because of:\n",
    "- The ability to handle multiple file formats with large amounts of data.\n",
    "- The ability to handle large-scale data with speed.\n",
    "- Spark accelerates the delivery of insight with in-memory processing across a distributed framework.\n",
    "\n",
    "\n",
    "Propose how often the data should be updated and why.\n",
    "- Data will be updated on a monthly basis.\n",
    "\n",
    "\n",
    "Write a description of how you would approach the problem differently under the following scenarios:\n",
    " * The data was increased by 100x.\n",
    "  - In this scenario, increasing the number of nodes in a cluster to handle big data.\n",
    " * The data populates a dashboard that must be updated on a daily basis by 7am every day.\n",
    "  - In this scenario, Apache Airflow is suitable to schedule and run data pipelines.\n",
    " * The database needed to be accessed by 100+ people.\n",
    "  - In this scenario, using scalable cloud data warehouses technology like AWS redshift."
   ]
  },
  {
   "cell_type": "markdown",
   "metadata": {
    "editable": true
   },
   "source": [
    "**Resources:**\n",
    "https://stackoverflow.com/questions/44627386/how-to-find-count-of-null-and-nan-values-for-each-column-in-a-pyspark-dataframe\n",
    "https://stackoverflow.com/questions/51949414/read-sas-sas7bdat-data-with-spark\n",
    "https://www.ibmbigdatahub.com/blog/who-uses-spark-and-why#:~:text=Spark%20helps%20data%20scientists%20by,%2Dlearning%20library%20(MLlib\n"
   ]
  },
  {
   "cell_type": "code",
   "execution_count": null,
   "metadata": {
    "editable": true
   },
   "outputs": [],
   "source": []
  }
 ],
 "metadata": {
  "kernelspec": {
   "display_name": "Python 3",
   "language": "python",
   "name": "python3"
  },
  "language_info": {
   "codemirror_mode": {
    "name": "ipython",
    "version": 3
   },
   "file_extension": ".py",
   "mimetype": "text/x-python",
   "name": "python",
   "nbconvert_exporter": "python",
   "pygments_lexer": "ipython3",
   "version": "3.6.3"
  }
 },
 "nbformat": 4,
 "nbformat_minor": 4
}
